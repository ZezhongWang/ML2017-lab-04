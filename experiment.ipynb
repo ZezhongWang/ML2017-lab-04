{
 "cells": [
  {
   "cell_type": "code",
   "execution_count": 1,
   "metadata": {
    "collapsed": true
   },
   "outputs": [],
   "source": [
    "import pickle\n",
    "import math\n",
    "from sklearn.tree import DecisionTreeClassifier\n",
    "import numpy as np\n",
    "import pandas as pd\n",
    "import matplotlib.pyplot as plt"
   ]
  },
  {
   "cell_type": "code",
   "execution_count": 2,
   "metadata": {},
   "outputs": [
    {
     "name": "stdout",
     "output_type": "stream",
     "text": [
      "<class 'pandas.core.frame.DataFrame'>\n",
      "RangeIndex: 80000 entries, 0 to 79999\n",
      "Data columns (total 4 columns):\n",
      "user_id      80000 non-null int64\n",
      "item_id      80000 non-null int64\n",
      "rating       80000 non-null int64\n",
      "timestamp    80000 non-null int64\n",
      "dtypes: int64(4)\n",
      "memory usage: 2.4 MB\n"
     ]
    }
   ],
   "source": [
    "data = pd.read_table('./ml-100k/u1.base', sep='\\t', header = None, names=['user_id','item_id','rating','timestamp'])\n",
    "data_test = pd.read_table('./ml-100k/u1.test', sep='\\t', header = None, names=['user_id','item_id','rating','timestamp'])\n",
    "N = 943\n",
    "M = 1682\n",
    "k = 15\n",
    "data.info()"
   ]
  },
  {
   "cell_type": "code",
   "execution_count": 3,
   "metadata": {
    "collapsed": true
   },
   "outputs": [],
   "source": [
    "R = np.zeros([N, M])\n",
    "R_test = np.zeros([N, M])\n",
    "# 用户因子矩阵P， 物品因子矩阵Q初始化\n",
    "P = np.random.random((N, k))\n",
    "Q = np.random.random((M, k))\n",
    "# 填充原始评分矩阵\n",
    "for _, line in data.iterrows():\n",
    "    R[line['user_id']-1][line['item_id']-1] = int(line['rating'])\n",
    "for _, line in data_test.iterrows():\n",
    "    R_test[line['user_id']-1][line['item_id']-1] = int(line['rating'])"
   ]
  },
  {
   "cell_type": "code",
   "execution_count": 4,
   "metadata": {
    "collapsed": true
   },
   "outputs": [],
   "source": [
    "def calc_loss(P, Q, R):\n",
    "    '''\n",
    "        计算loss， P为用户评分矩阵， Q为物品因子矩阵， R为原始矩阵\n",
    "        P, Q, R 都是np.matrix\n",
    "    '''\n",
    "    R_pre = P.dot(Q.T)\n",
    "    diff = R - R_pre\n",
    "    e_sum = 0\n",
    "    for i in range(diff.shape[0]):\n",
    "        for j in range(diff.shape[1]):\n",
    "            if R[i][j] > 0:\n",
    "                e_sum += diff[i][j]**2\n",
    "    return e_sum\n",
    "\n",
    "def calc_loss_matrix(P, Q, R):\n",
    "    return R - P.dot(Q.T)\n",
    "\n",
    "def alternating_least_square(P, Q, R, R_test, learning_rate = 0.002, turns=50, silence=True, plot=True):\n",
    "    '''\n",
    "        交替最小二乘\n",
    "    '''\n",
    "    loss_matrix = R - P.dot(Q.T)\n",
    "    train_loss_list = []\n",
    "    validation_loss_list = []\n",
    "    # 固定物品因子矩阵\n",
    "    for step in range(turns):\n",
    "        for i in range(P.shape[0]):\n",
    "            for j in range(Q.shape[0]):\n",
    "                if R[i][j] > 0:\n",
    "                    eij = float(R[i][j] - np.dot(P[i, :], Q[j, :].T))\n",
    "                    for k in range(P.shape[1]):\n",
    "                        P[i][k] = P[i][k] + 2*learning_rate*eij*Q[j][k]\n",
    "                        Q[j][k] = Q[j][k] + 2*learning_rate*eij*P[i][k]\n",
    "        train_loss = calc_loss(P, Q, R)\n",
    "        validation_loss = calc_loss(P, Q, R_test)\n",
    "        train_loss_list.append(train_loss)\n",
    "        validation_loss_list.append(validation_loss)\n",
    "        if silence == False:\n",
    "            print(\"Turns\", step, \" train loss is\", train_loss, \" test loss is\", validation_loss)\n",
    "        if validation_loss < 0.001:\n",
    "            break\n",
    "    if plot == True:\n",
    "        plt.plot(range(len(train_loss_list)), train_loss_list)\n",
    "        plt.plot(range(len(validation_loss_list)), validation_loss_list)\n",
    "        plt.xlabel('Iteration')\n",
    "        plt.ylabel('Loss')\n",
    "        plt.title('Alternating Least Square')\n",
    "        plt.legend(['train', 'validation'])\n",
    "        plt.show()\n",
    "    return P, Q"
   ]
  },
  {
   "cell_type": "code",
   "execution_count": 5,
   "metadata": {},
   "outputs": [
    {
     "name": "stdout",
     "output_type": "stream",
     "text": [
      "Turns 0  train loss is 85496.6242637  test loss is 24014.4757976\n",
      "Turns 1  train loss is 73147.6652743  test loss is 21380.6890835\n",
      "Turns 2  train loss is 69224.9236782  test loss is 20767.5280798\n",
      "Turns 3  train loss is 66673.0214631  test loss is 20535.3190549\n",
      "Turns 4  train loss is 64588.7735577  test loss is 20452.2226044\n",
      "Turns 5  train loss is 62670.8208447  test loss is 20443.818174\n",
      "Turns 6  train loss is 60805.4358206  test loss is 20478.5709515\n",
      "Turns 7  train loss is 58964.302964  test loss is 20541.4619326\n",
      "Turns 8  train loss is 57162.1270181  test loss is 20625.5937711\n",
      "Turns 9  train loss is 55427.8373396  test loss is 20728.0597845\n",
      "Turns 10  train loss is 53785.9595723  test loss is 20847.0734586\n",
      "Turns 11  train loss is 52250.1097478  test loss is 20980.3811326\n",
      "Turns 12  train loss is 50824.3848566  test loss is 21124.9838685\n",
      "Turns 13  train loss is 49506.8292935  test loss is 21277.5644602\n",
      "Turns 14  train loss is 48292.2128375  test loss is 21434.9978624\n",
      "Turns 15  train loss is 47173.7528894  test loss is 21594.6658457\n",
      "Turns 16  train loss is 46144.096901  test loss is 21754.5567767\n",
      "Turns 17  train loss is 45195.8670315  test loss is 21913.2261324\n",
      "Turns 18  train loss is 44321.9551883  test loss is 22069.6951491\n",
      "Turns 19  train loss is 43515.6753771  test loss is 22223.3381434\n",
      "Turns 20  train loss is 42770.8335613  test loss is 22373.7832121\n",
      "Turns 21  train loss is 42081.7496075  test loss is 22520.8342872\n",
      "Turns 22  train loss is 41443.2516801  test loss is 22664.4140161\n",
      "Turns 23  train loss is 40850.6552264  test loss is 22804.5236888\n",
      "Turns 24  train loss is 40299.7337544  test loss is 22941.2158813\n",
      "Turns 25  train loss is 39786.6856044  test loss is 23074.5760541\n",
      "Turns 26  train loss is 39308.0991327  test loss is 23204.7102143\n",
      "Turns 27  train loss is 38860.9177168  test loss is 23331.7365813\n",
      "Turns 28  train loss is 38442.4054521  test loss is 23455.7798655\n",
      "Turns 29  train loss is 38050.1141439  test loss is 23576.9672678\n"
     ]
    },
    {
     "data": {
      "image/png": "[encoded data removed]",
      "text/plain": [
       "<matplotlib.figure.Figure at 0x7fb37a032208>"
      ]
     },
     "metadata": {},
     "output_type": "display_data"
    }
   ],
   "source": [
    "nP, nQ = alternating_least_square(P, Q, R, R_test, learning_rate=0.005, turns=30, silence=False)\n",
    "nR = nP.dot(nQ.T)"
   ]
  },
  {
   "cell_type": "code",
   "execution_count": null,
   "metadata": {
    "collapsed": true
   },
   "outputs": [],
   "source": []
  }
 ],
 "metadata": {
  "kernelspec": {
   "display_name": "Python 3",
   "language": "python",
   "name": "python3"
  },
  "language_info": {
   "codemirror_mode": {
    "name": "ipython",
    "version": 3
   },
   "file_extension": ".py",
   "mimetype": "text/x-python",
   "name": "python",
   "nbconvert_exporter": "python",
   "pygments_lexer": "ipython3",
   "version": "3.6.1"
  }
 },
 "nbformat": 4,
 "nbformat_minor": 2
}
